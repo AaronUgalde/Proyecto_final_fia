{
 "cells": [
  {
   "cell_type": "code",
   "execution_count": 2,
   "id": "132cc701",
   "metadata": {},
   "outputs": [],
   "source": [
    "import pandas as pd\n",
    "from sklearn.ensemble import RandomForestClassifier\n",
    "from sklearn.neighbors import KNeighborsClassifier\n",
    "from sklearn.tree import DecisionTreeClassifier\n",
    "from sklearn.model_selection import train_test_split\n",
    "from sklearn.metrics import accuracy_score, f1_score, precision_score, recall_score\n",
    "import joblib\n"
   ]
  },
  {
   "cell_type": "code",
   "execution_count": 3,
   "id": "b2335325",
   "metadata": {},
   "outputs": [],
   "source": [
    "data_classification = pd.read_csv('resources/preprocessed_student_depression_data.csv')\n",
    "data_classification = data_classification.drop(columns=['Family History of Mental Illness'])"
   ]
  },
  {
   "cell_type": "code",
   "execution_count": 4,
   "id": "5789f3f7",
   "metadata": {},
   "outputs": [
    {
     "name": "stdout",
     "output_type": "stream",
     "text": [
      "RF: Classification Report:\n",
      "0.8349758107865974\n",
      "RF: Confusion Matrix:\n",
      "Predicted     0     1\n",
      "Actual               \n",
      "0          1824   519\n",
      "1           402  2836\n",
      "RF: Accuracy: 0.8349758107865974\n",
      "RF: F1 Score: 0.8603063855604429\n",
      "RF: Precision: 0.8453055141579732\n",
      "RF: Recall: 0.8758492896849908\n"
     ]
    }
   ],
   "source": [
    "X_class = data_classification.drop(columns=['Depression'])\n",
    "y_class = data_classification['Depression']\n",
    "X_train_class, X_test_class, y_train_class, y_test_class = train_test_split(X_class, y_class, test_size=0.2, random_state=42)\n",
    "random_forest_model = RandomForestClassifier(n_estimators=300, random_state=42, max_depth=10, min_samples_split=5)\n",
    "random_forest_model.fit(X_train_class, y_train_class)\n",
    "y_pred_class = random_forest_model.predict(X_test_class)\n",
    "print(f'RF: Classification Report:\\n{random_forest_model.score(X_test_class, y_test_class)}')\n",
    "print(f'RF: Confusion Matrix:\\n{pd.crosstab(y_test_class, y_pred_class, rownames=[\"Actual\"], colnames=[\"Predicted\"])}')\n",
    "print(f'RF: Accuracy: {accuracy_score(y_test_class, y_pred_class)}')\n",
    "print(f'RF: F1 Score: {f1_score(y_test_class, y_pred_class)}')\n",
    "print(f'RF: Precision: {precision_score(y_test_class, y_pred_class)}')\n",
    "print(f'RF: Recall: {recall_score(y_test_class, y_pred_class)}')"
   ]
  },
  {
   "cell_type": "code",
   "execution_count": 5,
   "id": "d932d60b",
   "metadata": {},
   "outputs": [
    {
     "name": "stdout",
     "output_type": "stream",
     "text": [
      "Decision Tree Classification Report:\n",
      "0.811503314818133\n",
      "Decision Tree Confusion Matrix:\n",
      "Predicted     0     1\n",
      "Actual               \n",
      "0          1781   562\n",
      "1           490  2748\n",
      "Decision Tree Accuracy: 0.811503314818133\n",
      "Decision Tree F1 Score: 0.8393402565668907\n",
      "Decision Tree Precision: 0.8302114803625378\n",
      "Decision Tree Recall: 0.8486720197652872\n"
     ]
    }
   ],
   "source": [
    "model_tree = DecisionTreeClassifier(random_state=42, max_depth=10, min_samples_split=5)\n",
    "model_tree.fit(X_train_class, y_train_class)\n",
    "y_pred_tree = model_tree.predict(X_test_class)\n",
    "print(f'Decision Tree Classification Report:\\n{model_tree.score(X_test_class, y_test_class)}')\n",
    "print(f'Decision Tree Confusion Matrix:\\n{pd.crosstab(y_test_class, y_pred_tree, rownames=[\"Actual\"], colnames=[\"Predicted\"])}')\n",
    "print(f'Decision Tree Accuracy: {accuracy_score(y_test_class, y_pred_tree)}')\n",
    "print(f'Decision Tree F1 Score: {f1_score(y_test_class, y_pred_tree)}')\n",
    "print(f'Decision Tree Precision: {precision_score(y_test_class, y_pred_tree)}')\n",
    "print(f'Decision Tree Recall: {recall_score(y_test_class, y_pred_tree)}')"
   ]
  },
  {
   "cell_type": "code",
   "execution_count": 6,
   "id": "fc82e93b",
   "metadata": {},
   "outputs": [
    {
     "name": "stdout",
     "output_type": "stream",
     "text": [
      "KNN Classification Report:\n",
      "0.7882099982082064\n",
      "KNN Confusion Matrix:\n",
      "Predicted     0     1\n",
      "Actual               \n",
      "0          1636   707\n",
      "1           475  2763\n",
      "KNN Accuracy: 0.7882099982082064\n",
      "KNN F1 Score: 0.8237924865831843\n",
      "KNN Precision: 0.7962536023054755\n",
      "KNN Recall: 0.8533045089561457\n"
     ]
    }
   ],
   "source": [
    "knn_model = KNeighborsClassifier(n_neighbors=5)\n",
    "knn_model.fit(X_train_class, y_train_class)\n",
    "y_pred_knn = knn_model.predict(X_test_class)\n",
    "print(f'KNN Classification Report:\\n{knn_model.score(X_test_class, y_test_class)}')\n",
    "print(f'KNN Confusion Matrix:\\n{pd.crosstab(y_test_class, y_pred_knn, rownames=[\"Actual\"], colnames=[\"Predicted\"])}')\n",
    "print(f'KNN Accuracy: {accuracy_score(y_test_class, y_pred_knn)}')\n",
    "print(f'KNN F1 Score: {f1_score(y_test_class, y_pred_knn)}')\n",
    "print(f'KNN Precision: {precision_score(y_test_class, y_pred_knn)}')\n",
    "print(f'KNN Recall: {recall_score(y_test_class, y_pred_knn)}')"
   ]
  },
  {
   "cell_type": "code",
   "execution_count": 7,
   "id": "55546367",
   "metadata": {},
   "outputs": [
    {
     "data": {
      "text/plain": [
       "['resources/rf_model.pkl']"
      ]
     },
     "execution_count": 7,
     "metadata": {},
     "output_type": "execute_result"
    }
   ],
   "source": [
    "joblib.dump(random_forest_model, 'resources/rf_model.pkl')"
   ]
  }
 ],
 "metadata": {
  "kernelspec": {
   "display_name": "Python 3",
   "language": "python",
   "name": "python3"
  },
  "language_info": {
   "codemirror_mode": {
    "name": "ipython",
    "version": 3
   },
   "file_extension": ".py",
   "mimetype": "text/x-python",
   "name": "python",
   "nbconvert_exporter": "python",
   "pygments_lexer": "ipython3",
   "version": "3.11.9"
  }
 },
 "nbformat": 4,
 "nbformat_minor": 5
}
