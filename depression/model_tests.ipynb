{
 "cells": [
  {
   "cell_type": "code",
   "execution_count": null,
   "id": "132cc701",
   "metadata": {},
   "outputs": [],
   "source": [
    "import pandas as pd\n",
    "from sklearn.ensemble import RandomForestClassifier\n",
    "from sklearn.neighbors import KNeighborsClassifier\n",
    "from sklearn.tree import DecisionTreeClassifier\n",
    "from sklearn.model_selection import train_test_split\n",
    "import joblib\n"
   ]
  },
  {
   "cell_type": "code",
   "execution_count": 12,
   "id": "b2335325",
   "metadata": {},
   "outputs": [],
   "source": [
    "data_classification = pd.read_csv('resources/preprocessed_student_depression_data.csv')\n",
    "data_classification = data_classification.drop(columns=['Family History of Mental Illness'])"
   ]
  },
  {
   "cell_type": "code",
   "execution_count": null,
   "id": "5789f3f7",
   "metadata": {},
   "outputs": [
    {
     "name": "stdout",
     "output_type": "stream",
     "text": [
      "Classification Report:\n",
      "0.8344382727109837\n",
      "Confusion Matrix:\n",
      "Predicted     0     1\n",
      "Actual               \n",
      "0          1820   523\n",
      "1           401  2837\n",
      "Accuracy: 0.8344382727109837\n",
      "F1 Score: 0.8344382727109837\n",
      "Precision: 0.8344382727109837\n",
      "Recall: 0.8344382727109837\n",
      "ROC AUC: 0.8344382727109837\n"
     ]
    }
   ],
   "source": [
    "X_class = data_classification.drop(columns=['Depression'])\n",
    "y_class = data_classification['Depression']\n",
    "X_train_class, X_test_class, y_train_class, y_test_class = train_test_split(X_class, y_class, test_size=0.2, random_state=42)\n",
    "random_forest_model = RandomForestClassifier(n_estimators=300, random_state=42, max_depth=10, min_samples_split=5)\n",
    "random_forest_model.fit(X_train_class, y_train_class)\n",
    "y_pred_class = random_forest_model.predict(X_test_class)\n",
    "print(f'RF: Classification Report:\\n{random_forest_model.score(X_test_class, y_test_class)}')\n",
    "print(f'RF: Confusion Matrix:\\n{pd.crosstab(y_test_class, y_pred_class, rownames=[\"Actual\"], colnames=[\"Predicted\"])}')\n",
    "print(f'RF: Accuracy: {random_forest_model.score(X_test_class, y_test_class)}')\n",
    "print(f'RF: F1 Score: {random_forest_model.score(X_test_class, y_test_class)}')\n",
    "print(f'RF: Precision: {random_forest_model.score(X_test_class, y_test_class)}')\n",
    "print(f'RF: Recall: {random_forest_model.score(X_test_class, y_test_class)}')\n",
    "print(f'RF: ROC AUC: {random_forest_model.score(X_test_class, y_test_class)}')"
   ]
  },
  {
   "cell_type": "code",
   "execution_count": null,
   "id": "d932d60b",
   "metadata": {},
   "outputs": [
    {
     "name": "stdout",
     "output_type": "stream",
     "text": [
      "Decision Tree Classification Report:\n",
      "0.8093531625156782\n",
      "Decision Tree Confusion Matrix:\n",
      "Predicted     0     1\n",
      "Actual               \n",
      "0          1766   577\n",
      "1           487  2751\n",
      "Decision Tree Accuracy: 0.8093531625156782\n",
      "Decision Tree F1 Score: 0.8093531625156782\n",
      "Decision Tree Precision: 0.8093531625156782\n",
      "Decision Tree Recall: 0.8093531625156782\n",
      "Decision Tree ROC AUC: 0.8093531625156782\n"
     ]
    }
   ],
   "source": [
    "model_tree = DecisionTreeClassifier(random_state=42, max_depth=10, min_samples_split=5)\n",
    "model_tree.fit(X_train_class, y_train_class)\n",
    "y_pred_tree = model_tree.predict(X_test_class)\n",
    "print(f'Decision Tree Classification Report:\\n{model_tree.score(X_test_class, y_test_class)}')\n",
    "print(f'Decision Tree Confusion Matrix:\\n{pd.crosstab(y_test_class, y_pred_tree, rownames=[\"Actual\"], colnames=[\"Predicted\"])}')\n",
    "print(f'Decision Tree Accuracy: {model_tree.score(X_test_class, y_test_class)}')\n",
    "print(f'Decision Tree F1 Score: {model_tree.score(X_test_class, y_test_class)}')\n",
    "print(f'Decision Tree Precision: {model_tree.score(X_test_class, y_test_class)}')\n",
    "print(f'Decision Tree Recall: {model_tree.score(X_test_class, y_test_class)}')\n",
    "print(f'Decision Tree ROC AUC: {model_tree.score(X_test_class, y_test_class)}')"
   ]
  },
  {
   "cell_type": "code",
   "execution_count": 15,
   "id": "fc82e93b",
   "metadata": {},
   "outputs": [
    {
     "name": "stdout",
     "output_type": "stream",
     "text": [
      "KNN Classification Report:\n",
      "0.7887475362838201\n",
      "KNN Confusion Matrix:\n",
      "Predicted     0     1\n",
      "Actual               \n",
      "0          1636   707\n",
      "1           472  2766\n",
      "KNN Accuracy: 0.7887475362838201\n",
      "KNN F1 Score: 0.7887475362838201\n",
      "KNN Precision: 0.7887475362838201\n",
      "KNN Recall: 0.7887475362838201\n",
      "KNN ROC AUC: 0.7887475362838201\n"
     ]
    }
   ],
   "source": [
    "knn_model = KNeighborsClassifier(n_neighbors=5)\n",
    "knn_model.fit(X_train_class, y_train_class)\n",
    "y_pred_knn = knn_model.predict(X_test_class)\n",
    "print(f'KNN Classification Report:\\n{knn_model.score(X_test_class, y_test_class)}')\n",
    "print(f'KNN Confusion Matrix:\\n{pd.crosstab(y_test_class, y_pred_knn, rownames=[\"Actual\"], colnames=[\"Predicted\"])}')\n",
    "print(f'KNN Accuracy: {knn_model.score(X_test_class, y_test_class)}')\n",
    "print(f'KNN F1 Score: {knn_model.score(X_test_class, y_test_class)}')\n",
    "print(f'KNN Precision: {knn_model.score(X_test_class, y_test_class)}')\n",
    "print(f'KNN Recall: {knn_model.score(X_test_class, y_test_class)}')\n",
    "print(f'KNN ROC AUC: {knn_model.score(X_test_class, y_test_class)}')"
   ]
  },
  {
   "cell_type": "code",
   "execution_count": null,
   "id": "55546367",
   "metadata": {},
   "outputs": [],
   "source": [
    "joblib.dump(random_forest_model, 'resources/rf_model.pkl')"
   ]
  }
 ],
 "metadata": {
  "kernelspec": {
   "display_name": "FIA",
   "language": "python",
   "name": "python3"
  },
  "language_info": {
   "codemirror_mode": {
    "name": "ipython",
    "version": 3
   },
   "file_extension": ".py",
   "mimetype": "text/x-python",
   "name": "python",
   "nbconvert_exporter": "python",
   "pygments_lexer": "ipython3",
   "version": "3.13.2"
  }
 },
 "nbformat": 4,
 "nbformat_minor": 5
}
