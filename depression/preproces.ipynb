{
 "cells": [
  {
   "cell_type": "code",
   "execution_count": 11,
   "id": "c061a9ac",
   "metadata": {},
   "outputs": [],
   "source": [
    "import pandas as pd\n",
    "from sklearn.preprocessing import OrdinalEncoder, OneHotEncoder, LabelEncoder\n",
    "import numpy as np"
   ]
  },
  {
   "cell_type": "code",
   "execution_count": 12,
   "id": "8ddbd009",
   "metadata": {},
   "outputs": [],
   "source": [
    "data = pd.read_csv('resources/Student Depression Dataset.csv')"
   ]
  },
  {
   "cell_type": "code",
   "execution_count": 13,
   "id": "966dc877",
   "metadata": {},
   "outputs": [],
   "source": [
    "preprocesed_data = data.drop(columns=['id', 'City', 'Profession', 'Work Pressure'])"
   ]
  },
  {
   "cell_type": "code",
   "execution_count": 14,
   "id": "a0b96bce",
   "metadata": {},
   "outputs": [
    {
     "name": "stdout",
     "output_type": "stream",
     "text": [
      "['B.Pharm' 'BSc' 'BA' 'BCA' 'M.Tech' 'PhD' 'Class 12' 'B.Ed' 'LLB' 'BE'\n",
      " 'M.Ed' 'MSc' 'BHM' 'M.Pharm' 'MCA' 'MA' 'B.Com' 'MD' 'MBA' 'MBBS' 'M.Com'\n",
      " 'B.Arch' 'LLM' 'B.Tech' 'BBA' 'ME' 'MHM' 'Others']\n"
     ]
    }
   ],
   "source": [
    "values = preprocesed_data['Degree'].unique()\n",
    "print(values)"
   ]
  },
  {
   "cell_type": "code",
   "execution_count": 15,
   "id": "2fcadee0",
   "metadata": {},
   "outputs": [],
   "source": [
    "def map_degree_level(degree):\n",
    "    undergrad = ['B.Pharm', 'BSc', 'BA', 'BCA', 'B.Ed', 'LLB', 'BE', 'BHM', 'B.Com', 'B.Arch', 'B.Tech', 'BBA']\n",
    "    postgrad = ['M.Tech', 'M.Ed', 'MSc', 'M.Pharm', 'MCA', 'MA', 'MBA', 'M.Com', 'ME', 'MHM', 'LLM', 'MD']\n",
    "    doctorate = ['PhD']\n",
    "    school = ['Class 12']\n",
    "    if degree in undergrad:\n",
    "        return 1\n",
    "    elif degree in postgrad:\n",
    "        return 2\n",
    "    elif degree in doctorate:\n",
    "        return 3\n",
    "    elif degree in school:\n",
    "        return 0\n",
    "    else:\n",
    "        return -1  # Otros/no clasificados\n"
   ]
  },
  {
   "cell_type": "code",
   "execution_count": 16,
   "id": "2ffa9236",
   "metadata": {},
   "outputs": [],
   "source": [
    "# Encode Gender\n",
    "gender_encoder = LabelEncoder()\n",
    "preprocesed_data.loc[:, ['Gender']] = gender_encoder.fit_transform(preprocesed_data['Gender'])\n",
    "\n",
    "# Encode Sleep Duration\n",
    "order_sleep = ['Less than 5 hours', '5-6 hours', 'Others', '7-8 hours', 'More than 8 hours']\n",
    "sleep_duration_encoder = OrdinalEncoder(categories=[order_sleep])\n",
    "preprocesed_data.loc[:, ['Sleep Duration']] = sleep_duration_encoder.fit_transform(preprocesed_data[['Sleep Duration']])\n",
    "\n",
    "# Encode Dietary Habits\n",
    "preprocesed_data.loc[:, ['Dietary Habits']] = preprocesed_data[['Dietary Habits']].replace('Others', 'Moderate')\n",
    "order_dietary = ['Unhealthy', 'Moderate', 'Healthy']\n",
    "dietary_habits_encoder = OrdinalEncoder(categories=[order_dietary])\n",
    "preprocesed_data.loc[:, ['Dietary Habits']] = dietary_habits_encoder.fit_transform(preprocesed_data[['Dietary Habits']])\n",
    "\n",
    "# Encode Have you ever had suicidal thoughts?\n",
    "suicidal_thoughts_encoder = LabelEncoder()\n",
    "preprocesed_data.loc[:, ['Have you ever had suicidal thoughts ?']] = suicidal_thoughts_encoder.fit_transform(preprocesed_data['Have you ever had suicidal thoughts ?']) \n",
    "\n",
    "# Encode Family History of Mental Illness\n",
    "family_history_encoder = LabelEncoder()\n",
    "preprocesed_data.loc[:, ['Family History of Mental Illness']] = family_history_encoder.fit_transform(preprocesed_data['Family History of Mental Illness'])\n",
    "\n",
    "## Encode Degree\n",
    "preprocesed_data.loc[:, ['Degree']] = preprocesed_data['Degree'].apply(map_degree_level)"
   ]
  },
  {
   "cell_type": "code",
   "execution_count": 17,
   "id": "3a38705b",
   "metadata": {},
   "outputs": [],
   "source": [
    "def fillna_random(df):\n",
    "    for col in df.columns:\n",
    "        if df[col].isnull().any():\n",
    "            valores = df[col].dropna().values\n",
    "            df[col] = df[col].apply(\n",
    "                lambda x: np.random.choice(valores) if pd.isna(x) else x\n",
    "            )\n",
    "    return df\n",
    "\n",
    "# 1) Rellenas todo el df\n",
    "preprocesed_data = fillna_random(preprocesed_data)"
   ]
  },
  {
   "cell_type": "code",
   "execution_count": 18,
   "id": "7bd5f3b4",
   "metadata": {},
   "outputs": [],
   "source": [
    "preprocesed_data.to_csv('resources/preprocessed_student_depression_data.csv', index=False)\n"
   ]
  },
  {
   "cell_type": "code",
   "execution_count": null,
   "id": "69a433a6",
   "metadata": {},
   "outputs": [
    {
     "name": "stdout",
     "output_type": "stream",
     "text": [
      "Gender: [1 0]\n",
      "Age: [33. 24. 31. 28. 25. 29. 30. 27. 19. 20. 23. 18. 21. 22. 34. 32. 26. 39.\n",
      " 35. 42. 36. 58. 49. 38. 51. 44. 43. 46. 59. 54. 48. 56. 37. 41.]\n",
      "Academic Pressure: [5. 2. 3. 4. 1. 0.]\n",
      "CGPA: [ 8.97    5.9     7.03    5.59    8.13    5.7     9.54    8.04    9.79\n",
      "  8.38    6.1     7.04    8.52    5.64    8.58    6.51    7.25    7.83\n",
      "  9.93    8.74    6.73    5.57    8.59    7.1     6.08    5.74    9.86\n",
      "  6.7     6.21    5.87    6.37    9.72    5.88    9.56    6.99    5.24\n",
      "  9.21    7.85    6.95    5.86    7.92    9.66    8.94    9.71    7.87\n",
      "  5.6     7.9     5.46    6.79    8.7     7.38    8.5     7.09    9.82\n",
      "  8.89    7.94    9.11    6.75    7.53    9.49    9.01    7.64    5.27\n",
      "  6.      9.44    5.75    7.51    9.05    6.38    8.95    9.88    5.32\n",
      "  6.27    7.7     8.1     9.59    8.96    5.51    7.43    8.79    9.95\n",
      "  5.37    6.86    8.32    9.74    5.66    7.48    8.23    8.81    6.03\n",
      "  5.56    5.68    5.14    7.61    6.17    8.17    9.87    8.75    6.16\n",
      "  9.5     7.99    5.67    8.92    6.19    5.76    6.25    5.11    5.58\n",
      "  5.65    9.89    8.03    6.61    9.41    8.64    7.21    8.28    6.04\n",
      "  9.13    8.08    9.96    5.12    8.35    7.07    9.6     9.24    8.54\n",
      "  8.78    8.93    8.91    9.04    6.83    5.85    7.74    6.41    8.9\n",
      "  7.75    7.88    5.42    7.52    7.68    8.4     9.39    6.84    5.99\n",
      "  8.62    8.53    7.47    6.78    6.42    9.92    8.39    5.89    7.22\n",
      "  6.81    9.02    9.97    9.63    9.67    5.41    7.27    6.05    6.85\n",
      "  9.33    5.81    6.53    5.98    6.02    6.74    5.26    7.72    7.39\n",
      "  8.43    9.34    5.44    5.82    5.72    8.19    8.44    8.98    9.37\n",
      "  5.8     7.28    7.6     7.91    9.17    7.46    9.43    9.91    9.36\n",
      "  5.16    7.08    9.26    8.83   10.      7.8     9.46    6.63    7.24\n",
      "  6.47    7.77    5.06    7.17    8.24    6.88    9.03    5.08    5.45\n",
      "  8.46    9.19    6.36    8.73    7.11    9.12    9.4     8.11    9.98\n",
      "  5.55    8.61    8.14    6.89    9.84    5.48    8.21    7.82    8.55\n",
      "  5.79    8.77    8.29    6.92    7.37    9.7     6.26    7.26    7.5\n",
      "  6.82    7.15    5.77    5.91    5.1     7.71    9.06    5.71    5.84\n",
      "  9.42    6.23    6.29    5.25    9.69    9.9     6.39    8.09    5.83\n",
      "  5.47    6.56    8.71    9.94    6.69    5.52    7.3     7.02    6.33\n",
      "  8.07    8.37    8.      7.79    8.65    6.28    7.35    8.69    7.12\n",
      "  7.32    7.13    5.97    5.09    6.91    6.76    6.52    7.45    8.56\n",
      "  6.5     8.63    8.27    8.49    6.59    9.29    5.3     7.06    5.38\n",
      "  6.65    9.16    8.01    8.25    8.02    8.47    7.34    8.88    7.14\n",
      "  8.42    5.17    9.1     7.49    9.85    7.42    9.31    6.35    7.\n",
      "  5.39    5.61    9.78    9.25    5.69    9.47    8.16    7.23    6.46\n",
      "  0.      8.26    6.32    6.77    8.85    5.03    7.65    5.78    6.24\n",
      "  5.35    6.06    7.78    6.64    7.0625  6.98    6.44    6.09  ]\n",
      "Study Satisfaction: [2. 5. 3. 4. 1. 0.]\n",
      "Job Satisfaction: [0. 3. 4. 2. 1.]\n",
      "Sleep Duration: [1.0 0.0 3.0 4.0 2.0]\n",
      "Dietary Habits: [2.0 1.0 0.0]\n",
      "Degree: [1 2 3 0 -1]\n",
      "Have you ever had suicidal thoughts ?: [1 0]\n",
      "Work/Study Hours: [ 3.  9.  4.  1.  0. 12.  2. 11. 10.  6.  8.  5.  7.]\n",
      "Financial Stress: [1. 2. 5. 3. 4.]\n",
      "Family History of Mental Illness: [0 1]\n",
      "Depression: [1 0]\n"
     ]
    }
   ],
   "source": [
    "for col in preprocesed_data.columns:\n",
    "    print(f\"{col}: {preprocesed_data[col].min()}, {preprocesed_data[col].max()}\")"
   ]
  }
 ],
 "metadata": {
  "kernelspec": {
   "display_name": "FIA",
   "language": "python",
   "name": "python3"
  },
  "language_info": {
   "codemirror_mode": {
    "name": "ipython",
    "version": 3
   },
   "file_extension": ".py",
   "mimetype": "text/x-python",
   "name": "python",
   "nbconvert_exporter": "python",
   "pygments_lexer": "ipython3",
   "version": "3.13.2"
  }
 },
 "nbformat": 4,
 "nbformat_minor": 5
}
