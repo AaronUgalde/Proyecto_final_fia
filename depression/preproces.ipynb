{
 "cells": [
  {
   "cell_type": "code",
   "execution_count": 1,
   "id": "c061a9ac",
   "metadata": {},
   "outputs": [],
   "source": [
    "import pandas as pd\n",
    "from sklearn.preprocessing import OrdinalEncoder, OneHotEncoder, LabelEncoder\n",
    "import numpy as np"
   ]
  },
  {
   "cell_type": "code",
   "execution_count": 2,
   "id": "8ddbd009",
   "metadata": {},
   "outputs": [],
   "source": [
    "data = pd.read_csv('resources/Student Depression Dataset.csv')"
   ]
  },
  {
   "cell_type": "code",
   "execution_count": 3,
   "id": "966dc877",
   "metadata": {},
   "outputs": [],
   "source": [
    "preprocesed_data = data.drop(columns=['id', 'City', 'Profession', 'Work Pressure'])"
   ]
  },
  {
   "cell_type": "code",
   "execution_count": 4,
   "id": "a0b96bce",
   "metadata": {},
   "outputs": [
    {
     "name": "stdout",
     "output_type": "stream",
     "text": [
      "['B.Pharm' 'BSc' 'BA' 'BCA' 'M.Tech' 'PhD' 'Class 12' 'B.Ed' 'LLB' 'BE'\n",
      " 'M.Ed' 'MSc' 'BHM' 'M.Pharm' 'MCA' 'MA' 'B.Com' 'MD' 'MBA' 'MBBS' 'M.Com'\n",
      " 'B.Arch' 'LLM' 'B.Tech' 'BBA' 'ME' 'MHM' 'Others']\n"
     ]
    }
   ],
   "source": [
    "values = preprocesed_data['Degree'].unique()\n",
    "print(values)"
   ]
  },
  {
   "cell_type": "code",
   "execution_count": 5,
   "id": "2fcadee0",
   "metadata": {},
   "outputs": [],
   "source": [
    "def map_degree_level(degree):\n",
    "    undergrad = ['B.Pharm', 'BSc', 'BA', 'BCA', 'B.Ed', 'LLB', 'BE', 'BHM', 'B.Com', 'B.Arch', 'B.Tech', 'BBA']\n",
    "    postgrad = ['M.Tech', 'M.Ed', 'MSc', 'M.Pharm', 'MCA', 'MA', 'MBA', 'M.Com', 'ME', 'MHM', 'LLM', 'MD']\n",
    "    doctorate = ['PhD']\n",
    "    school = ['Class 12']\n",
    "    if degree in undergrad:\n",
    "        return 1\n",
    "    elif degree in postgrad:\n",
    "        return 2\n",
    "    elif degree in doctorate:\n",
    "        return 3\n",
    "    elif degree in school:\n",
    "        return 0\n",
    "    else:\n",
    "        return -1  # Otros/no clasificados\n"
   ]
  },
  {
   "cell_type": "code",
   "execution_count": 6,
   "id": "2ffa9236",
   "metadata": {},
   "outputs": [],
   "source": [
    "# Encode Gender\n",
    "preprocesed_data.loc[:, ['Gender']] = preprocesed_data['Gender'].apply(lambda x: 1 if x == 'Female' else 0)\n",
    "\n",
    "# Encode Sleep Duration\n",
    "order_sleep = ['Less than 5 hours', '5-6 hours', 'Others', '7-8 hours', 'More than 8 hours']\n",
    "sleep_duration_encoder = OrdinalEncoder(categories=[order_sleep])\n",
    "preprocesed_data.loc[:, ['Sleep Duration']] = sleep_duration_encoder.fit_transform(preprocesed_data[['Sleep Duration']])\n",
    "\n",
    "# Encode Dietary Habits\n",
    "preprocesed_data.loc[:, ['Dietary Habits']] = preprocesed_data[['Dietary Habits']].replace('Others', 'Moderate')\n",
    "order_dietary = ['Unhealthy', 'Moderate', 'Healthy']\n",
    "dietary_habits_encoder = OrdinalEncoder(categories=[order_dietary])\n",
    "preprocesed_data.loc[:, ['Dietary Habits']] = dietary_habits_encoder.fit_transform(preprocesed_data[['Dietary Habits']])\n",
    "\n",
    "# Encode Have you ever had suicidal thoughts?\n",
    "preprocesed_data.loc[:, ['Have you ever had suicidal thoughts ?']] = preprocesed_data['Have you ever had suicidal thoughts ?'].apply(lambda x: 1 if x == 'Yes' else 0)\n",
    "\n",
    "# Encode Family History of Mental Illness\n",
    "preprocesed_data.loc[:, ['Family History of Mental Illness']] = preprocesed_data['Family History of Mental Illness'].apply(lambda x: 1 if x == 'Yes' else 0)\n",
    "\n",
    "## Encode Degree\n",
    "preprocesed_data.loc[:, ['Degree']] = preprocesed_data['Degree'].apply(map_degree_level)"
   ]
  },
  {
   "cell_type": "code",
   "execution_count": 7,
   "id": "3a38705b",
   "metadata": {},
   "outputs": [],
   "source": [
    "def fillna_random(df):\n",
    "    for col in df.columns:\n",
    "        if df[col].isnull().any():\n",
    "            valores = df[col].dropna().values\n",
    "            df[col] = df[col].apply(\n",
    "                lambda x: np.random.choice(valores) if pd.isna(x) else x\n",
    "            )\n",
    "    return df\n",
    "\n",
    "# 1) Rellenas todo el df\n",
    "preprocesed_data = fillna_random(preprocesed_data)"
   ]
  },
  {
   "cell_type": "code",
   "execution_count": 8,
   "id": "7bd5f3b4",
   "metadata": {},
   "outputs": [],
   "source": [
    "preprocesed_data.to_csv('resources/preprocessed_student_depression_data.csv', index=False)\n"
   ]
  },
  {
   "cell_type": "code",
   "execution_count": 9,
   "id": "69a433a6",
   "metadata": {},
   "outputs": [
    {
     "name": "stdout",
     "output_type": "stream",
     "text": [
      "Gender: 0, 1\n",
      "Age: 18.0, 59.0\n",
      "Academic Pressure: 0.0, 5.0\n",
      "CGPA: 0.0, 10.0\n",
      "Study Satisfaction: 0.0, 5.0\n",
      "Job Satisfaction: 0.0, 4.0\n",
      "Sleep Duration: 0.0, 4.0\n",
      "Dietary Habits: 0.0, 2.0\n",
      "Degree: -1, 3\n",
      "Have you ever had suicidal thoughts ?: 0, 1\n",
      "Work/Study Hours: 0.0, 12.0\n",
      "Financial Stress: 1.0, 5.0\n",
      "Family History of Mental Illness: 0, 1\n",
      "Depression: 0, 1\n"
     ]
    }
   ],
   "source": [
    "for col in preprocesed_data.columns:\n",
    "    print(f\"{col}: {preprocesed_data[col].min()}, {preprocesed_data[col].max()}\")"
   ]
  }
 ],
 "metadata": {
  "kernelspec": {
   "display_name": "Python 3",
   "language": "python",
   "name": "python3"
  },
  "language_info": {
   "codemirror_mode": {
    "name": "ipython",
    "version": 3
   },
   "file_extension": ".py",
   "mimetype": "text/x-python",
   "name": "python",
   "nbconvert_exporter": "python",
   "pygments_lexer": "ipython3",
   "version": "3.11.9"
  }
 },
 "nbformat": 4,
 "nbformat_minor": 5
}
