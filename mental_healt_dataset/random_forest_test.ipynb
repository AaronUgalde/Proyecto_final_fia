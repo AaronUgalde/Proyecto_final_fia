{
 "cells": [
  {
   "cell_type": "code",
   "execution_count": null,
   "id": "380ed8be",
   "metadata": {},
   "outputs": [],
   "source": [
    "import pandas as pd\n",
    "from sklearn.ensemble import RandomForestRegressor, RandomForestClassifier\n",
    "from sklearn.model_selection import train_test_split\n",
    "from sklearn.metrics import mean_squared_error, r2_score, mean_absolute_error"
   ]
  },
  {
   "cell_type": "code",
   "execution_count": 19,
   "id": "74f7b674",
   "metadata": {},
   "outputs": [],
   "source": [
    "data = pd.read_csv('resources/preprocessed_data.csv')"
   ]
  },
  {
   "cell_type": "code",
   "execution_count": null,
   "id": "3d09ff72",
   "metadata": {},
   "outputs": [
    {
     "name": "stdout",
     "output_type": "stream",
     "text": [
      "Mean Squared Error: 6.921898934296993\n",
      "R^2 Score: -0.02253608447735722\n",
      "Mean Absolute Error: 2.273864757189741\n",
      "Accuracy Score: 0.09333333333333334\n"
     ]
    }
   ],
   "source": [
    "X = data.drop(columns=['Happiness Score'])\n",
    "y = data['Happiness Score']\n",
    "X_train, X_test, y_train, y_test = train_test_split(X, y, test_size=0.2, random_state=42)\n",
    "model = RandomForestRegressor(n_estimators=600, random_state=42, max_depth=10, min_samples_split=5)\n",
    "model.fit(X_train, y_train)\n",
    "y_pred = model.predict(X_test)\n",
    "mse = mean_squared_error(y_test, y_pred)\n",
    "r2 = r2_score(y_test, y_pred)\n",
    "print(f'Mean Squared Error: {mse}')\n",
    "print(f'R^2 Score: {r2}')\n",
    "print(f'Mean Absolute Error: {mean_absolute_error(y_test, y_pred)}')\n"
   ]
  },
  {
   "cell_type": "code",
   "execution_count": null,
   "id": "a2e93871",
   "metadata": {},
   "outputs": [],
   "source": [
    "data_classification = pd.read_csv('resources/preprocessed_data.csv')\n",
    "data_classification['Happiness Score'] = data_classification['Happiness Score'].apply(lambda x: 1 if x > 5 else 0)\n",
    "X_class = data_classification.drop(columns=['Happiness Score'])\n",
    "y_class = data_classification['Happiness Score']\n",
    "X_train_class, X_test_class, y_train_class, y_test_class = train_test_split(X_class, y_class, test_size=0.2, random_state=42)\n",
    "model_class = RandomForestClassifier(n_estimators=600, random_state=42, max_depth=10, min_samples_split=5)\n",
    "model_class.fit(X_train_class, y_train_class)\n",
    "y_pred_class = model_class.predict(X_test_class)\n",
    "print(f'Classification Report:\\n{model_class.score(X_test_class, y_test_class)}')\n",
    "print(f'Confusion Matrix:\\n{pd.crosstab(y_test_class, y_pred_class, rownames=[\"Actual\"], colnames=[\"Predicted\"])}')\n",
    "print(f'Accuracy: {model_class.score(X_test_class, y_test_class)}')\n",
    "print(f'F1 Score: {model_class.score(X_test_class, y_test_class)}')\n",
    "print(f'Precision: {model_class.score(X_test_class, y_test_class)}')\n",
    "print(f'Recall: {model_class.score(X_test_class, y_test_class)}')\n",
    "print(f'ROC AUC: {model_class.score(X_test_class, y_test_class)}')"
   ]
  }
 ],
 "metadata": {
  "kernelspec": {
   "display_name": "FIA",
   "language": "python",
   "name": "python3"
  },
  "language_info": {
   "codemirror_mode": {
    "name": "ipython",
    "version": 3
   },
   "file_extension": ".py",
   "mimetype": "text/x-python",
   "name": "python",
   "nbconvert_exporter": "python",
   "pygments_lexer": "ipython3",
   "version": "3.13.2"
  }
 },
 "nbformat": 4,
 "nbformat_minor": 5
}
