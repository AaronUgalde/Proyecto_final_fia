{
 "cells": [
  {
   "cell_type": "code",
   "execution_count": 30,
   "id": "8e39111b",
   "metadata": {},
   "outputs": [],
   "source": [
    "import pandas as pd\n",
    "from sklearn.preprocessing import OrdinalEncoder, OneHotEncoder"
   ]
  },
  {
   "cell_type": "code",
   "execution_count": 31,
   "id": "4d61dfc8",
   "metadata": {},
   "outputs": [],
   "source": [
    "data = pd.read_csv('resources/Mental_Health_Lifestyle_Dataset.csv')"
   ]
  },
  {
   "cell_type": "markdown",
   "id": "de01e018",
   "metadata": {},
   "source": [
    "## Extraemos las columnas del dataset sobre las que no podamos dar recomiendaciones"
   ]
  },
  {
   "cell_type": "code",
   "execution_count": null,
   "id": "45e57839",
   "metadata": {},
   "outputs": [],
   "source": [
    "preprocesed_data = data.drop(columns=['id'])"
   ]
  },
  {
   "cell_type": "markdown",
   "id": "2245955a",
   "metadata": {},
   "source": [
    "## Codificamos los datos ordinales"
   ]
  },
  {
   "cell_type": "code",
   "execution_count": null,
   "id": "2494a251",
   "metadata": {},
   "outputs": [],
   "source": [
    "# Exercise level\n",
    "orden = [['Low', 'Moderate', 'High']]\n",
    "exercise_encoder = OrdinalEncoder(categories=orden)\n",
    "preprocesed_data.loc[:, ['Exercise Level']] = exercise_encoder.fit_transform(preprocesed_data[['Exercise Level']])\n",
    "\n",
    "# Tipos de dietas\n",
    "diet_encoder = OneHotEncoder(drop=None)\n",
    "new_cols = diet_encoder.fit_transform(preprocesed_data[['Diet Type']]).toarray()\n",
    "preprocesed_data = pd.concat([\n",
    "    preprocesed_data.drop(columns=['Diet Type']),\n",
    "    pd.DataFrame(new_cols, columns=diet_encoder.get_feature_names_out(['Diet Type']))\n",
    "], axis=1)\n",
    "\n",
    "# Streess level\n",
    "stress_encoder = OrdinalEncoder(categories=[['Low', 'Moderate', 'High']])\n",
    "preprocesed_data.loc[:, ['Stress Level']] = stress_encoder.fit_transform(preprocesed_data[['Stress Level']])\n",
    "\n",
    "preprocesed_data.to_csv('resources/preprocessed_data.csv', index=False)"
   ]
  },
  {
   "cell_type": "code",
   "execution_count": null,
   "id": "b0a250f9",
   "metadata": {},
   "outputs": [],
   "source": []
  }
 ],
 "metadata": {
  "kernelspec": {
   "display_name": "FIA",
   "language": "python",
   "name": "python3"
  },
  "language_info": {
   "codemirror_mode": {
    "name": "ipython",
    "version": 3
   },
   "file_extension": ".py",
   "mimetype": "text/x-python",
   "name": "python",
   "nbconvert_exporter": "python",
   "pygments_lexer": "ipython3",
   "version": "3.13.2"
  }
 },
 "nbformat": 4,
 "nbformat_minor": 5
}
